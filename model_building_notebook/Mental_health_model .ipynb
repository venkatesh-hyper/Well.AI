{
  "cells": [
    {
      "cell_type": "code",
      "execution_count": 1,
      "metadata": {
        "id": "f8f30bI3YPml"
      },
      "outputs": [],
      "source": [
        "# prompt: import required libraries for data analysis\n",
        "\n",
        "import pandas as pd\n",
        "import numpy as np\n",
        "import matplotlib.pyplot as plt\n",
        "import seaborn as sns\n"
      ]
    },
    {
      "cell_type": "code",
      "execution_count": 2,
      "metadata": {
        "colab": {
          "base_uri": "https://localhost:8080/",
          "height": 365
        },
        "collapsed": true,
        "id": "ATiK3K-7Ysh4",
        "outputId": "47075514-7ff8-4f97-9d0a-cb385ebc0a74"
      },
      "outputs": [
        {
          "data": {
            "text/html": [
              "<div>\n",
              "<style scoped>\n",
              "    .dataframe tbody tr th:only-of-type {\n",
              "        vertical-align: middle;\n",
              "    }\n",
              "\n",
              "    .dataframe tbody tr th {\n",
              "        vertical-align: top;\n",
              "    }\n",
              "\n",
              "    .dataframe thead th {\n",
              "        text-align: right;\n",
              "    }\n",
              "</style>\n",
              "<table border=\"1\" class=\"dataframe\">\n",
              "  <thead>\n",
              "    <tr style=\"text-align: right;\">\n",
              "      <th></th>\n",
              "      <th>id</th>\n",
              "      <th>Name</th>\n",
              "      <th>Gender</th>\n",
              "      <th>Age</th>\n",
              "      <th>City</th>\n",
              "      <th>Working Professional or Student</th>\n",
              "      <th>Profession</th>\n",
              "      <th>Academic Pressure</th>\n",
              "      <th>Work Pressure</th>\n",
              "      <th>CGPA</th>\n",
              "      <th>Study Satisfaction</th>\n",
              "      <th>Job Satisfaction</th>\n",
              "      <th>Sleep Duration</th>\n",
              "      <th>Dietary Habits</th>\n",
              "      <th>Degree</th>\n",
              "      <th>Have you ever had suicidal thoughts ?</th>\n",
              "      <th>Work/Study Hours</th>\n",
              "      <th>Financial Stress</th>\n",
              "      <th>Family History of Mental Illness</th>\n",
              "      <th>Depression</th>\n",
              "    </tr>\n",
              "  </thead>\n",
              "  <tbody>\n",
              "    <tr>\n",
              "      <th>0</th>\n",
              "      <td>0</td>\n",
              "      <td>Aaradhya</td>\n",
              "      <td>Female</td>\n",
              "      <td>49.0</td>\n",
              "      <td>Ludhiana</td>\n",
              "      <td>Working Professional</td>\n",
              "      <td>Chef</td>\n",
              "      <td>NaN</td>\n",
              "      <td>5.0</td>\n",
              "      <td>NaN</td>\n",
              "      <td>NaN</td>\n",
              "      <td>2.0</td>\n",
              "      <td>More than 8 hours</td>\n",
              "      <td>Healthy</td>\n",
              "      <td>BHM</td>\n",
              "      <td>No</td>\n",
              "      <td>1.0</td>\n",
              "      <td>2.0</td>\n",
              "      <td>No</td>\n",
              "      <td>0</td>\n",
              "    </tr>\n",
              "    <tr>\n",
              "      <th>1</th>\n",
              "      <td>1</td>\n",
              "      <td>Vivan</td>\n",
              "      <td>Male</td>\n",
              "      <td>26.0</td>\n",
              "      <td>Varanasi</td>\n",
              "      <td>Working Professional</td>\n",
              "      <td>Teacher</td>\n",
              "      <td>NaN</td>\n",
              "      <td>4.0</td>\n",
              "      <td>NaN</td>\n",
              "      <td>NaN</td>\n",
              "      <td>3.0</td>\n",
              "      <td>Less than 5 hours</td>\n",
              "      <td>Unhealthy</td>\n",
              "      <td>LLB</td>\n",
              "      <td>Yes</td>\n",
              "      <td>7.0</td>\n",
              "      <td>3.0</td>\n",
              "      <td>No</td>\n",
              "      <td>1</td>\n",
              "    </tr>\n",
              "    <tr>\n",
              "      <th>2</th>\n",
              "      <td>2</td>\n",
              "      <td>Yuvraj</td>\n",
              "      <td>Male</td>\n",
              "      <td>33.0</td>\n",
              "      <td>Visakhapatnam</td>\n",
              "      <td>Student</td>\n",
              "      <td>NaN</td>\n",
              "      <td>5.0</td>\n",
              "      <td>NaN</td>\n",
              "      <td>8.97</td>\n",
              "      <td>2.0</td>\n",
              "      <td>NaN</td>\n",
              "      <td>5-6 hours</td>\n",
              "      <td>Healthy</td>\n",
              "      <td>B.Pharm</td>\n",
              "      <td>Yes</td>\n",
              "      <td>3.0</td>\n",
              "      <td>1.0</td>\n",
              "      <td>No</td>\n",
              "      <td>1</td>\n",
              "    </tr>\n",
              "    <tr>\n",
              "      <th>3</th>\n",
              "      <td>3</td>\n",
              "      <td>Yuvraj</td>\n",
              "      <td>Male</td>\n",
              "      <td>22.0</td>\n",
              "      <td>Mumbai</td>\n",
              "      <td>Working Professional</td>\n",
              "      <td>Teacher</td>\n",
              "      <td>NaN</td>\n",
              "      <td>5.0</td>\n",
              "      <td>NaN</td>\n",
              "      <td>NaN</td>\n",
              "      <td>1.0</td>\n",
              "      <td>Less than 5 hours</td>\n",
              "      <td>Moderate</td>\n",
              "      <td>BBA</td>\n",
              "      <td>Yes</td>\n",
              "      <td>10.0</td>\n",
              "      <td>1.0</td>\n",
              "      <td>Yes</td>\n",
              "      <td>1</td>\n",
              "    </tr>\n",
              "    <tr>\n",
              "      <th>4</th>\n",
              "      <td>4</td>\n",
              "      <td>Rhea</td>\n",
              "      <td>Female</td>\n",
              "      <td>30.0</td>\n",
              "      <td>Kanpur</td>\n",
              "      <td>Working Professional</td>\n",
              "      <td>Business Analyst</td>\n",
              "      <td>NaN</td>\n",
              "      <td>1.0</td>\n",
              "      <td>NaN</td>\n",
              "      <td>NaN</td>\n",
              "      <td>1.0</td>\n",
              "      <td>5-6 hours</td>\n",
              "      <td>Unhealthy</td>\n",
              "      <td>BBA</td>\n",
              "      <td>Yes</td>\n",
              "      <td>9.0</td>\n",
              "      <td>4.0</td>\n",
              "      <td>Yes</td>\n",
              "      <td>0</td>\n",
              "    </tr>\n",
              "  </tbody>\n",
              "</table>\n",
              "</div>"
            ],
            "text/plain": [
              "   id      Name  Gender   Age           City Working Professional or Student  \\\n",
              "0   0  Aaradhya  Female  49.0       Ludhiana            Working Professional   \n",
              "1   1     Vivan    Male  26.0       Varanasi            Working Professional   \n",
              "2   2    Yuvraj    Male  33.0  Visakhapatnam                         Student   \n",
              "3   3    Yuvraj    Male  22.0         Mumbai            Working Professional   \n",
              "4   4      Rhea  Female  30.0         Kanpur            Working Professional   \n",
              "\n",
              "         Profession  Academic Pressure  Work Pressure  CGPA  \\\n",
              "0              Chef                NaN            5.0   NaN   \n",
              "1           Teacher                NaN            4.0   NaN   \n",
              "2               NaN                5.0            NaN  8.97   \n",
              "3           Teacher                NaN            5.0   NaN   \n",
              "4  Business Analyst                NaN            1.0   NaN   \n",
              "\n",
              "   Study Satisfaction  Job Satisfaction     Sleep Duration Dietary Habits  \\\n",
              "0                 NaN               2.0  More than 8 hours        Healthy   \n",
              "1                 NaN               3.0  Less than 5 hours      Unhealthy   \n",
              "2                 2.0               NaN          5-6 hours        Healthy   \n",
              "3                 NaN               1.0  Less than 5 hours       Moderate   \n",
              "4                 NaN               1.0          5-6 hours      Unhealthy   \n",
              "\n",
              "    Degree Have you ever had suicidal thoughts ?  Work/Study Hours  \\\n",
              "0      BHM                                    No               1.0   \n",
              "1      LLB                                   Yes               7.0   \n",
              "2  B.Pharm                                   Yes               3.0   \n",
              "3      BBA                                   Yes              10.0   \n",
              "4      BBA                                   Yes               9.0   \n",
              "\n",
              "   Financial Stress Family History of Mental Illness  Depression  \n",
              "0               2.0                               No           0  \n",
              "1               3.0                               No           1  \n",
              "2               1.0                               No           1  \n",
              "3               1.0                              Yes           1  \n",
              "4               4.0                              Yes           0  "
            ]
          },
          "execution_count": 2,
          "metadata": {},
          "output_type": "execute_result"
        }
      ],
      "source": [
        "df = pd.read_csv('train.csv')\n",
        "df.head()"
      ]
    },
    {
      "cell_type": "code",
      "execution_count": 3,
      "metadata": {
        "colab": {
          "base_uri": "https://localhost:8080/"
        },
        "id": "ADrXNZllaTZo",
        "outputId": "79914e12-d906-4b96-cf34-3a17f310266b"
      },
      "outputs": [
        {
          "name": "stdout",
          "output_type": "stream",
          "text": [
            "<class 'pandas.core.frame.DataFrame'>\n",
            "RangeIndex: 140700 entries, 0 to 140699\n",
            "Data columns (total 20 columns):\n",
            " #   Column                                 Non-Null Count   Dtype  \n",
            "---  ------                                 --------------   -----  \n",
            " 0   id                                     140700 non-null  int64  \n",
            " 1   Name                                   140700 non-null  object \n",
            " 2   Gender                                 140700 non-null  object \n",
            " 3   Age                                    140700 non-null  float64\n",
            " 4   City                                   140700 non-null  object \n",
            " 5   Working Professional or Student        140700 non-null  object \n",
            " 6   Profession                             104070 non-null  object \n",
            " 7   Academic Pressure                      27897 non-null   float64\n",
            " 8   Work Pressure                          112782 non-null  float64\n",
            " 9   CGPA                                   27898 non-null   float64\n",
            " 10  Study Satisfaction                     27897 non-null   float64\n",
            " 11  Job Satisfaction                       112790 non-null  float64\n",
            " 12  Sleep Duration                         140700 non-null  object \n",
            " 13  Dietary Habits                         140696 non-null  object \n",
            " 14  Degree                                 140698 non-null  object \n",
            " 15  Have you ever had suicidal thoughts ?  140700 non-null  object \n",
            " 16  Work/Study Hours                       140700 non-null  float64\n",
            " 17  Financial Stress                       140696 non-null  float64\n",
            " 18  Family History of Mental Illness       140700 non-null  object \n",
            " 19  Depression                             140700 non-null  int64  \n",
            "dtypes: float64(8), int64(2), object(10)\n",
            "memory usage: 21.5+ MB\n"
          ]
        }
      ],
      "source": [
        "df.info()"
      ]
    },
    {
      "cell_type": "code",
      "execution_count": 4,
      "metadata": {
        "colab": {
          "base_uri": "https://localhost:8080/",
          "height": 365
        },
        "id": "_OfdATSDY2ev",
        "outputId": "92d6b42f-c4d7-471c-909f-c59b9dc0526c"
      },
      "outputs": [
        {
          "data": {
            "text/html": [
              "<div>\n",
              "<style scoped>\n",
              "    .dataframe tbody tr th:only-of-type {\n",
              "        vertical-align: middle;\n",
              "    }\n",
              "\n",
              "    .dataframe tbody tr th {\n",
              "        vertical-align: top;\n",
              "    }\n",
              "\n",
              "    .dataframe thead th {\n",
              "        text-align: right;\n",
              "    }\n",
              "</style>\n",
              "<table border=\"1\" class=\"dataframe\">\n",
              "  <thead>\n",
              "    <tr style=\"text-align: right;\">\n",
              "      <th></th>\n",
              "      <th>id</th>\n",
              "      <th>Name</th>\n",
              "      <th>Gender</th>\n",
              "      <th>Age</th>\n",
              "      <th>City</th>\n",
              "      <th>Working Professional or Student</th>\n",
              "      <th>Profession</th>\n",
              "      <th>Academic Pressure</th>\n",
              "      <th>Work Pressure</th>\n",
              "      <th>CGPA</th>\n",
              "      <th>Study Satisfaction</th>\n",
              "      <th>Job Satisfaction</th>\n",
              "      <th>Sleep Duration</th>\n",
              "      <th>Dietary Habits</th>\n",
              "      <th>Degree</th>\n",
              "      <th>Have you ever had suicidal thoughts ?</th>\n",
              "      <th>Work/Study Hours</th>\n",
              "      <th>Financial Stress</th>\n",
              "      <th>Family History of Mental Illness</th>\n",
              "      <th>Depression</th>\n",
              "    </tr>\n",
              "  </thead>\n",
              "  <tbody>\n",
              "    <tr>\n",
              "      <th>0</th>\n",
              "      <td>0</td>\n",
              "      <td>Aaradhya</td>\n",
              "      <td>Female</td>\n",
              "      <td>49.0</td>\n",
              "      <td>Ludhiana</td>\n",
              "      <td>Working Professional</td>\n",
              "      <td>Chef</td>\n",
              "      <td>NaN</td>\n",
              "      <td>5.0</td>\n",
              "      <td>NaN</td>\n",
              "      <td>NaN</td>\n",
              "      <td>2.0</td>\n",
              "      <td>More than 8 hours</td>\n",
              "      <td>Healthy</td>\n",
              "      <td>BHM</td>\n",
              "      <td>0</td>\n",
              "      <td>1.0</td>\n",
              "      <td>2.0</td>\n",
              "      <td>0</td>\n",
              "      <td>0</td>\n",
              "    </tr>\n",
              "    <tr>\n",
              "      <th>1</th>\n",
              "      <td>1</td>\n",
              "      <td>Vivan</td>\n",
              "      <td>Male</td>\n",
              "      <td>26.0</td>\n",
              "      <td>Varanasi</td>\n",
              "      <td>Working Professional</td>\n",
              "      <td>Teacher</td>\n",
              "      <td>NaN</td>\n",
              "      <td>4.0</td>\n",
              "      <td>NaN</td>\n",
              "      <td>NaN</td>\n",
              "      <td>3.0</td>\n",
              "      <td>Less than 5 hours</td>\n",
              "      <td>Unhealthy</td>\n",
              "      <td>LLB</td>\n",
              "      <td>1</td>\n",
              "      <td>7.0</td>\n",
              "      <td>3.0</td>\n",
              "      <td>0</td>\n",
              "      <td>1</td>\n",
              "    </tr>\n",
              "    <tr>\n",
              "      <th>2</th>\n",
              "      <td>2</td>\n",
              "      <td>Yuvraj</td>\n",
              "      <td>Male</td>\n",
              "      <td>33.0</td>\n",
              "      <td>Visakhapatnam</td>\n",
              "      <td>Student</td>\n",
              "      <td>NaN</td>\n",
              "      <td>5.0</td>\n",
              "      <td>NaN</td>\n",
              "      <td>8.97</td>\n",
              "      <td>2.0</td>\n",
              "      <td>NaN</td>\n",
              "      <td>5-6 hours</td>\n",
              "      <td>Healthy</td>\n",
              "      <td>B.Pharm</td>\n",
              "      <td>1</td>\n",
              "      <td>3.0</td>\n",
              "      <td>1.0</td>\n",
              "      <td>0</td>\n",
              "      <td>1</td>\n",
              "    </tr>\n",
              "    <tr>\n",
              "      <th>3</th>\n",
              "      <td>3</td>\n",
              "      <td>Yuvraj</td>\n",
              "      <td>Male</td>\n",
              "      <td>22.0</td>\n",
              "      <td>Mumbai</td>\n",
              "      <td>Working Professional</td>\n",
              "      <td>Teacher</td>\n",
              "      <td>NaN</td>\n",
              "      <td>5.0</td>\n",
              "      <td>NaN</td>\n",
              "      <td>NaN</td>\n",
              "      <td>1.0</td>\n",
              "      <td>Less than 5 hours</td>\n",
              "      <td>Moderate</td>\n",
              "      <td>BBA</td>\n",
              "      <td>1</td>\n",
              "      <td>10.0</td>\n",
              "      <td>1.0</td>\n",
              "      <td>1</td>\n",
              "      <td>1</td>\n",
              "    </tr>\n",
              "    <tr>\n",
              "      <th>4</th>\n",
              "      <td>4</td>\n",
              "      <td>Rhea</td>\n",
              "      <td>Female</td>\n",
              "      <td>30.0</td>\n",
              "      <td>Kanpur</td>\n",
              "      <td>Working Professional</td>\n",
              "      <td>Business Analyst</td>\n",
              "      <td>NaN</td>\n",
              "      <td>1.0</td>\n",
              "      <td>NaN</td>\n",
              "      <td>NaN</td>\n",
              "      <td>1.0</td>\n",
              "      <td>5-6 hours</td>\n",
              "      <td>Unhealthy</td>\n",
              "      <td>BBA</td>\n",
              "      <td>1</td>\n",
              "      <td>9.0</td>\n",
              "      <td>4.0</td>\n",
              "      <td>1</td>\n",
              "      <td>0</td>\n",
              "    </tr>\n",
              "  </tbody>\n",
              "</table>\n",
              "</div>"
            ],
            "text/plain": [
              "   id      Name  Gender   Age           City Working Professional or Student  \\\n",
              "0   0  Aaradhya  Female  49.0       Ludhiana            Working Professional   \n",
              "1   1     Vivan    Male  26.0       Varanasi            Working Professional   \n",
              "2   2    Yuvraj    Male  33.0  Visakhapatnam                         Student   \n",
              "3   3    Yuvraj    Male  22.0         Mumbai            Working Professional   \n",
              "4   4      Rhea  Female  30.0         Kanpur            Working Professional   \n",
              "\n",
              "         Profession  Academic Pressure  Work Pressure  CGPA  \\\n",
              "0              Chef                NaN            5.0   NaN   \n",
              "1           Teacher                NaN            4.0   NaN   \n",
              "2               NaN                5.0            NaN  8.97   \n",
              "3           Teacher                NaN            5.0   NaN   \n",
              "4  Business Analyst                NaN            1.0   NaN   \n",
              "\n",
              "   Study Satisfaction  Job Satisfaction     Sleep Duration Dietary Habits  \\\n",
              "0                 NaN               2.0  More than 8 hours        Healthy   \n",
              "1                 NaN               3.0  Less than 5 hours      Unhealthy   \n",
              "2                 2.0               NaN          5-6 hours        Healthy   \n",
              "3                 NaN               1.0  Less than 5 hours       Moderate   \n",
              "4                 NaN               1.0          5-6 hours      Unhealthy   \n",
              "\n",
              "    Degree  Have you ever had suicidal thoughts ?  Work/Study Hours  \\\n",
              "0      BHM                                      0               1.0   \n",
              "1      LLB                                      1               7.0   \n",
              "2  B.Pharm                                      1               3.0   \n",
              "3      BBA                                      1              10.0   \n",
              "4      BBA                                      1               9.0   \n",
              "\n",
              "   Financial Stress  Family History of Mental Illness  Depression  \n",
              "0               2.0                                 0           0  \n",
              "1               3.0                                 0           1  \n",
              "2               1.0                                 0           1  \n",
              "3               1.0                                 1           1  \n",
              "4               4.0                                 1           0  "
            ]
          },
          "execution_count": 4,
          "metadata": {},
          "output_type": "execute_result"
        }
      ],
      "source": [
        "\n",
        "# Create a mapping dictionary\n",
        "mapping = {'Yes': 1, 'No': 0}\n",
        "\n",
        "# Apply the mapping to the specified columns\n",
        "for col in ['Family History of Mental Illness', 'Have you ever had suicidal thoughts ?']:\n",
        "    df[col] = df[col].map(mapping)\n",
        "\n",
        "df.head()"
      ]
    },
    {
      "cell_type": "code",
      "execution_count": 5,
      "metadata": {
        "colab": {
          "base_uri": "https://localhost:8080/",
          "height": 1000
        },
        "id": "S628dHsWenBt",
        "outputId": "7d002ebb-1303-41e8-9fb8-61f408262e90"
      },
      "outputs": [
        {
          "data": {
            "text/plain": [
              "Sleep Duration\n",
              "Less than 5 hours    38784\n",
              "7-8 hours            36969\n",
              "More than 8 hours    32726\n",
              "5-6 hours            32142\n",
              "3-4 hours               12\n",
              "6-7 hours                8\n",
              "4-5 hours                7\n",
              "2-3 hours                5\n",
              "4-6 hours                5\n",
              "6-8 hours                4\n",
              "1-6 hours                4\n",
              "No                       4\n",
              "9-11 hours               2\n",
              "10-11 hours              2\n",
              "Sleep_Duration           2\n",
              "Unhealthy                2\n",
              "45                       2\n",
              "8-9 hours                2\n",
              "10-6 hours               1\n",
              "9-5                      1\n",
              "45-48 hours              1\n",
              "3-6 hours                1\n",
              "Work_Study_Hours         1\n",
              "49 hours                 1\n",
              "than 5 hours             1\n",
              "Pune                     1\n",
              "9-6 hours                1\n",
              "8 hours                  1\n",
              "35-36 hours              1\n",
              "Indore                   1\n",
              "1-3 hours                1\n",
              "55-66 hours              1\n",
              "Moderate                 1\n",
              "40-45 hours              1\n",
              "1-2 hours                1\n",
              "9-5 hours                1\n",
              "Name: count, dtype: int64"
            ]
          },
          "execution_count": 5,
          "metadata": {},
          "output_type": "execute_result"
        }
      ],
      "source": [
        "df[\"Sleep Duration\"].value_counts()"
      ]
    },
    {
      "cell_type": "code",
      "execution_count": 6,
      "metadata": {
        "id": "X44OYqsJf0od"
      },
      "outputs": [],
      "source": [
        "# Define a mapping to group similar durations\n",
        "duration_mapping = {\n",
        "    \"Less than 5 hours\": \"Less than 5 hours\",\n",
        "    \"5-6 hours\": \"5-6 hours\",\n",
        "    \"6-7 hours\": \"6-7 hours\",\n",
        "    \"7-8 hours\": \"7-8 hours\",\n",
        "    \"8-9 hours\": \"8-9 hours\",\n",
        "    \"9-11 hours\": \"9-11 hours\",\n",
        "    \"More than 8 hours\": \"More than 8 hours\",\n",
        "    # Group other ranges into approximate categories\n",
        "    \"4-5 hours\": \"4-6 hours\",\n",
        "    \"4-6 hours\": \"4-6 hours\",\n",
        "    \"6-8 hours\": \"6-8 hours\",\n",
        "    \"3-4 hours\": \"Less than 5 hours\",\n",
        "    \"3-6 hours\": \"4-6 hours\",\n",
        "    \"1-6 hours\": \"Less than 5 hours\",\n",
        "    \"2-3 hours\": \"Less than 5 hours\",\n",
        "    # Handle invalid data\n",
        "    \"No\": \"Invalid\",\n",
        "    \"Sleep_Duration\": \"Invalid\",\n",
        "    \"Unhealthy\": \"Invalid\",\n",
        "    \"Moderate\": \"Invalid\",\n",
        "    \"Pune\": \"Invalid\",\n",
        "    \"Indore\": \"Invalid\",\n",
        "    \"Work_Study_Hours\": \"Invalid\",\n",
        "    \"9-5\": \"Invalid\",\n",
        "    \"10-6 hours\": \"Invalid\",\n",
        "    \"than 5 hours\": \"Invalid\",\n",
        "    \"49 hours\": \"Invalid\",\n",
        "    \"45\": \"Invalid\",\n",
        "    \"45-48 hours\": \"Invalid\",\n",
        "    \"35-36 hours\": \"Invalid\",\n",
        "    \"55-66 hours\": \"Invalid\",\n",
        "}\n",
        "\n",
        "# Map the sleep durations\n",
        "df['Sleep Duration clean'] = df['Sleep Duration'].map(duration_mapping)\n"
      ]
    },
    {
      "cell_type": "code",
      "execution_count": 7,
      "metadata": {
        "colab": {
          "base_uri": "https://localhost:8080/",
          "height": 429
        },
        "id": "itJLvaOLf9Rh",
        "outputId": "a171524c-8cf7-457c-c622-816d99d92cd6"
      },
      "outputs": [
        {
          "data": {
            "text/plain": [
              "Sleep Duration clean\n",
              "Less than 5 hours    38805\n",
              "7-8 hours            36969\n",
              "More than 8 hours    32726\n",
              "5-6 hours            32142\n",
              "Invalid                 21\n",
              "4-6 hours               13\n",
              "6-7 hours                8\n",
              "6-8 hours                4\n",
              "8-9 hours                2\n",
              "9-11 hours               2\n",
              "Name: count, dtype: int64"
            ]
          },
          "execution_count": 7,
          "metadata": {},
          "output_type": "execute_result"
        }
      ],
      "source": [
        "df[\"Sleep Duration clean\"].value_counts()"
      ]
    },
    {
      "cell_type": "code",
      "execution_count": 8,
      "metadata": {
        "colab": {
          "base_uri": "https://localhost:8080/"
        },
        "id": "RisSgrf9_iI8",
        "outputId": "8a56876b-7d80-448d-a0ae-2c6409765f94"
      },
      "outputs": [
        {
          "data": {
            "text/plain": [
              "array(['More than 8 hours', 'Less than 5 hours', '5-6 hours', '7-8 hours',\n",
              "       'Invalid', nan, '6-8 hours', '4-6 hours', '6-7 hours', '8-9 hours',\n",
              "       '9-11 hours'], dtype=object)"
            ]
          },
          "execution_count": 8,
          "metadata": {},
          "output_type": "execute_result"
        }
      ],
      "source": [
        "df[\"Sleep Duration clean\"].unique()"
      ]
    },
    {
      "cell_type": "code",
      "execution_count": 9,
      "metadata": {
        "colab": {
          "base_uri": "https://localhost:8080/",
          "height": 241
        },
        "id": "0Al9aRG4_sIr",
        "outputId": "9139c6c5-df87-4411-9329-b753af7210cc"
      },
      "outputs": [
        {
          "data": {
            "text/plain": [
              "0    9.0\n",
              "1    4.0\n",
              "2    5.5\n",
              "3    4.0\n",
              "4    5.5\n",
              "Name: sleep, dtype: float64"
            ]
          },
          "execution_count": 9,
          "metadata": {},
          "output_type": "execute_result"
        }
      ],
      "source": [
        "# Clean and map sleep duration\n",
        "duration_mapping = {\n",
        "    \"Less than 5 hours\": 4.0,\n",
        "    \"5-6 hours\": 5.5,\n",
        "    \"6-7 hours\": 6.5,\n",
        "    \"7-8 hours\": 7.5,\n",
        "    \"8-9 hours\": 8.5,\n",
        "    \"9-11 hours\": 10.0,\n",
        "    \"More than 8 hours\": 9.0,\n",
        "    \"4-5 hours\": 5.0,\n",
        "    \"4-6 hours\": 5.0,\n",
        "    \"6-8 hours\": 7.0,\n",
        "    \"3-4 hours\": 4.0,\n",
        "    \"3-6 hours\": 4.0,\n",
        "    \"1-6 hours\": 4.0,\n",
        "    \"2-3 hours\": 4.0,\n",
        "    \"Invalid\": 0.0\n",
        "}\n",
        "\n",
        "df[\"sleep\"] = df[\"Sleep Duration clean\"].map(duration_mapping)\n",
        "df[\"sleep\"].head()"
      ]
    },
    {
      "cell_type": "code",
      "execution_count": 10,
      "metadata": {
        "colab": {
          "base_uri": "https://localhost:8080/",
          "height": 429
        },
        "id": "ko_b0JytCiD6",
        "outputId": "517ddaa1-82eb-44f9-c3d4-91f83a4da190"
      },
      "outputs": [
        {
          "data": {
            "text/plain": [
              "sleep\n",
              "4.0     38805\n",
              "7.5     36969\n",
              "9.0     32726\n",
              "5.5     32142\n",
              "0.0        21\n",
              "5.0        13\n",
              "6.5         8\n",
              "7.0         4\n",
              "8.5         2\n",
              "10.0        2\n",
              "Name: count, dtype: int64"
            ]
          },
          "execution_count": 10,
          "metadata": {},
          "output_type": "execute_result"
        }
      ],
      "source": [
        "df[\"sleep\"].value_counts()"
      ]
    },
    {
      "cell_type": "code",
      "execution_count": 11,
      "metadata": {
        "colab": {
          "base_uri": "https://localhost:8080/",
          "height": 241
        },
        "id": "V7XG7sThl5OO",
        "outputId": "7bc93335-05c5-48e4-ecb3-e852a65e766e"
      },
      "outputs": [
        {
          "data": {
            "text/plain": [
              "0    0\n",
              "1    1\n",
              "2    1\n",
              "3    1\n",
              "4    0\n",
              "Name: Depression, dtype: int64"
            ]
          },
          "execution_count": 11,
          "metadata": {},
          "output_type": "execute_result"
        }
      ],
      "source": [
        "df[\"Depression\"] = df[\"Depression\"].astype(int)\n",
        "df[\"Depression\"].head()"
      ]
    },
    {
      "cell_type": "code",
      "execution_count": 12,
      "metadata": {
        "colab": {
          "base_uri": "https://localhost:8080/",
          "height": 241
        },
        "id": "8AxlZE2Qmxi1",
        "outputId": "b67d5db3-d718-4a22-df02-baa7e299298c"
      },
      "outputs": [
        {
          "data": {
            "text/plain": [
              "0    49\n",
              "1    26\n",
              "2    33\n",
              "3    22\n",
              "4    30\n",
              "Name: Age, dtype: int64"
            ]
          },
          "execution_count": 12,
          "metadata": {},
          "output_type": "execute_result"
        }
      ],
      "source": [
        "df[\"Age\"] = df[\"Age\"].astype(int)\n",
        "df[\"Age\"].head()"
      ]
    },
    {
      "cell_type": "code",
      "execution_count": 13,
      "metadata": {
        "colab": {
          "base_uri": "https://localhost:8080/",
          "height": 837
        },
        "id": "fqFtdzqOoxiJ",
        "outputId": "52051f3f-1b5f-4fd5-ce0d-bad441dbf595"
      },
      "outputs": [
        {
          "data": {
            "text/plain": [
              "Dietary Habits\n",
              "Moderate             49705\n",
              "Unhealthy            46227\n",
              "Healthy              44741\n",
              "Yes                      2\n",
              "No                       2\n",
              "More Healthy             2\n",
              "No Healthy               1\n",
              "Class 12                 1\n",
              "Indoor                   1\n",
              "Male                     1\n",
              "Vegas                    1\n",
              "M.Tech                   1\n",
              "Less Healthy             1\n",
              "1.0                      1\n",
              "Electrician              1\n",
              "Hormonal                 1\n",
              "Mihir                    1\n",
              "Less than Healthy        1\n",
              "3                        1\n",
              "Gender                   1\n",
              "BSc                      1\n",
              "Pratham                  1\n",
              "2                        1\n",
              "Name: count, dtype: int64"
            ]
          },
          "execution_count": 13,
          "metadata": {},
          "output_type": "execute_result"
        }
      ],
      "source": [
        "df[\"Dietary Habits\"].value_counts()"
      ]
    },
    {
      "cell_type": "code",
      "execution_count": 14,
      "metadata": {
        "id": "FxWuOClBqVAF"
      },
      "outputs": [],
      "source": [
        "valid_categories = [\"Moderate\", \"Unhealthy\", \"Healthy\"]\n",
        "\n",
        "# Step 2: Clean the data\n",
        "# Map synonymous or invalid values to valid categories\n",
        "synonym_mapping = {\n",
        "    \"More Healthy\": \"Healthy\",\n",
        "    \"Less Healthy\": \"Unhealthy\",\n",
        "    \"Less than Healthy\": \"Unhealthy\",\n",
        "    \"No Healthy\": \"Unhealthy\"\n",
        "}\n",
        "\n",
        "# Replace synonyms with valid categories\n",
        "df[\"Dietary Habits\"] = df[\"Dietary Habits\"].replace(synonym_mapping)\n",
        "\n",
        "df = df[df[\"Dietary Habits\"].isin(valid_categories)]\n"
      ]
    },
    {
      "cell_type": "code",
      "execution_count": 15,
      "metadata": {
        "colab": {
          "base_uri": "https://localhost:8080/",
          "height": 210
        },
        "id": "JbOdv0cGqtBM",
        "outputId": "2607a750-82d8-4276-9af7-313594b04fc5"
      },
      "outputs": [
        {
          "data": {
            "text/plain": [
              "Dietary Habits\n",
              "Moderate     49705\n",
              "Unhealthy    46230\n",
              "Healthy      44743\n",
              "Name: count, dtype: int64"
            ]
          },
          "execution_count": 15,
          "metadata": {},
          "output_type": "execute_result"
        }
      ],
      "source": [
        "df[\"Dietary Habits\"].value_counts()"
      ]
    },
    {
      "cell_type": "code",
      "execution_count": 16,
      "metadata": {
        "colab": {
          "base_uri": "https://localhost:8080/"
        },
        "id": "lHoj1tTOt60x",
        "outputId": "e72266f6-ae69-44e8-f6b3-edc0278e4fee"
      },
      "outputs": [
        {
          "data": {
            "text/plain": [
              "array([ 1.,  7.,  3., 10.,  9.,  6.,  8.,  2.,  0.,  5., 12.,  4., 11.])"
            ]
          },
          "execution_count": 16,
          "metadata": {},
          "output_type": "execute_result"
        }
      ],
      "source": [
        "df[\"Work/Study Hours\"].unique()"
      ]
    },
    {
      "cell_type": "code",
      "execution_count": 17,
      "metadata": {
        "colab": {
          "base_uri": "https://localhost:8080/",
          "height": 368
        },
        "id": "lMe_7u_Zt0kR",
        "outputId": "f0c07d5a-adbd-43f0-a91b-3773110fc881"
      },
      "outputs": [
        {
          "data": {
            "text/plain": [
              "0     1\n",
              "1     7\n",
              "2     3\n",
              "3    10\n",
              "4     9\n",
              "Name: Work/Study Hours, dtype: int64"
            ]
          },
          "execution_count": 17,
          "metadata": {},
          "output_type": "execute_result"
        }
      ],
      "source": [
        "df[\"Work/Study Hours\"] = df[\"Work/Study Hours\"].astype(int)\n",
        "df[\"Work/Study Hours\"].head()"
      ]
    },
    {
      "cell_type": "code",
      "execution_count": 18,
      "metadata": {
        "colab": {
          "base_uri": "https://localhost:8080/"
        },
        "id": "GfEjJt7FuJlB",
        "outputId": "b0acead7-fba5-400d-d0a8-6c890a2be550"
      },
      "outputs": [
        {
          "data": {
            "text/plain": [
              "array([ 2.,  3.,  1.,  4.,  5., nan])"
            ]
          },
          "execution_count": 18,
          "metadata": {},
          "output_type": "execute_result"
        }
      ],
      "source": [
        "df[\"Financial Stress\"].value_counts()\n",
        "df[\"Financial Stress\"].unique()"
      ]
    },
    {
      "cell_type": "code",
      "execution_count": 19,
      "metadata": {
        "colab": {
          "base_uri": "https://localhost:8080/",
          "height": 241
        },
        "id": "yB1VzYmhvZ5u",
        "outputId": "c9d831fd-23b4-4ac5-8a47-d25ed1b956a4"
      },
      "outputs": [
        {
          "data": {
            "text/plain": [
              "0    2\n",
              "1    3\n",
              "2    1\n",
              "3    1\n",
              "4    4\n",
              "Name: Financial Stress, dtype: int64"
            ]
          },
          "execution_count": 19,
          "metadata": {},
          "output_type": "execute_result"
        }
      ],
      "source": [
        "df[\"Financial Stress\"] = df[\"Financial Stress\"].fillna(0).astype(int)\n",
        "df[\"Financial Stress\"].head()"
      ]
    },
    {
      "cell_type": "code",
      "execution_count": 20,
      "metadata": {
        "colab": {
          "base_uri": "https://localhost:8080/"
        },
        "id": "U6ad_ko77Awx",
        "outputId": "9d6b812c-c226-49e1-8c3f-f9364cc6d422"
      },
      "outputs": [
        {
          "name": "stderr",
          "output_type": "stream",
          "text": [
            "/var/folders/q3/bl9sh3nd1997t0vby3jw4xl80000gn/T/ipykernel_7540/2482765706.py:1: FutureWarning: A value is trying to be set on a copy of a DataFrame or Series through chained assignment using an inplace method.\n",
            "The behavior will change in pandas 3.0. This inplace method will never work because the intermediate object on which we are setting values always behaves as a copy.\n",
            "\n",
            "For example, when doing 'df[col].method(value, inplace=True)', try using 'df.method({col: value}, inplace=True)' or df[col] = df[col].method(value) instead, to perform the operation inplace on the original object.\n",
            "\n",
            "\n",
            "  df[\"Study Satisfaction\"].fillna(0, inplace=True)\n"
          ]
        }
      ],
      "source": [
        "df[\"Study Satisfaction\"].fillna(0, inplace=True)\n",
        "df[\"Study Satisfaction\"] = df[\"Study Satisfaction\"].astype(int)"
      ]
    },
    {
      "cell_type": "code",
      "execution_count": 21,
      "metadata": {
        "colab": {
          "base_uri": "https://localhost:8080/"
        },
        "id": "1jq6i4oV7R6E",
        "outputId": "c1e56310-5c5e-4d3c-f4e3-61ba0bf0b75d"
      },
      "outputs": [
        {
          "name": "stderr",
          "output_type": "stream",
          "text": [
            "/var/folders/q3/bl9sh3nd1997t0vby3jw4xl80000gn/T/ipykernel_7540/3360331544.py:1: FutureWarning: A value is trying to be set on a copy of a DataFrame or Series through chained assignment using an inplace method.\n",
            "The behavior will change in pandas 3.0. This inplace method will never work because the intermediate object on which we are setting values always behaves as a copy.\n",
            "\n",
            "For example, when doing 'df[col].method(value, inplace=True)', try using 'df.method({col: value}, inplace=True)' or df[col] = df[col].method(value) instead, to perform the operation inplace on the original object.\n",
            "\n",
            "\n",
            "  df[\"Job Satisfaction\"].fillna(0, inplace=True)\n"
          ]
        }
      ],
      "source": [
        "df[\"Job Satisfaction\"].fillna(0, inplace=True)\n",
        "df[\"Job Satisfaction\"] = df[\"Job Satisfaction\"].astype(int)"
      ]
    },
    {
      "cell_type": "code",
      "execution_count": 22,
      "metadata": {
        "colab": {
          "base_uri": "https://localhost:8080/",
          "height": 304
        },
        "id": "ph6Ygwr37drg",
        "outputId": "afb92fbc-a98d-4ee3-bf0d-69f81b0a7de6"
      },
      "outputs": [
        {
          "data": {
            "text/plain": [
              "Study Satisfaction\n",
              "0    112790\n",
              "4      6358\n",
              "2      5838\n",
              "3      5821\n",
              "1      5450\n",
              "5      4421\n",
              "Name: count, dtype: int64"
            ]
          },
          "execution_count": 22,
          "metadata": {},
          "output_type": "execute_result"
        }
      ],
      "source": [
        "df[\"Study Satisfaction\"].value_counts()"
      ]
    },
    {
      "cell_type": "code",
      "execution_count": 23,
      "metadata": {
        "colab": {
          "base_uri": "https://localhost:8080/",
          "height": 304
        },
        "id": "IVpy_aac7jnP",
        "outputId": "9780cdea-16f6-4acb-d0ea-6433c54de22c"
      },
      "outputs": [
        {
          "data": {
            "text/plain": [
              "Job Satisfaction\n",
              "0    27901\n",
              "2    24775\n",
              "5    22811\n",
              "1    22323\n",
              "3    21949\n",
              "4    20919\n",
              "Name: count, dtype: int64"
            ]
          },
          "execution_count": 23,
          "metadata": {},
          "output_type": "execute_result"
        }
      ],
      "source": [
        "df[\"Job Satisfaction\"].value_counts()"
      ]
    },
    {
      "cell_type": "code",
      "execution_count": 24,
      "metadata": {
        "colab": {
          "base_uri": "https://localhost:8080/",
          "height": 366
        },
        "id": "dr0OIByf7m45",
        "outputId": "2c2bdfc8-11bb-4746-e4aa-f7cb1a00a392"
      },
      "outputs": [
        {
          "data": {
            "text/plain": [
              "Satisfaction\n",
              "2    30612\n",
              "1    27773\n",
              "3    27768\n",
              "4    27277\n",
              "5    27231\n",
              "0       15\n",
              "6        1\n",
              "7        1\n",
              "Name: count, dtype: int64"
            ]
          },
          "execution_count": 24,
          "metadata": {},
          "output_type": "execute_result"
        }
      ],
      "source": [
        "df[\"Satisfaction\"] = df[\"Job Satisfaction\"] + df[\"Study Satisfaction\"]\n",
        "df[\"Satisfaction\"].value_counts()"
      ]
    },
    {
      "cell_type": "code",
      "execution_count": 25,
      "metadata": {
        "colab": {
          "base_uri": "https://localhost:8080/"
        },
        "id": "NguKx39W75AR",
        "outputId": "96ca83d6-d6d7-4f2c-d844-96f9cf8315ba"
      },
      "outputs": [
        {
          "name": "stderr",
          "output_type": "stream",
          "text": [
            "/var/folders/q3/bl9sh3nd1997t0vby3jw4xl80000gn/T/ipykernel_7540/1572026379.py:1: FutureWarning: A value is trying to be set on a copy of a DataFrame or Series through chained assignment using an inplace method.\n",
            "The behavior will change in pandas 3.0. This inplace method will never work because the intermediate object on which we are setting values always behaves as a copy.\n",
            "\n",
            "For example, when doing 'df[col].method(value, inplace=True)', try using 'df.method({col: value}, inplace=True)' or df[col] = df[col].method(value) instead, to perform the operation inplace on the original object.\n",
            "\n",
            "\n",
            "  df[\"Academic Pressure\"].fillna(0, inplace=True)\n"
          ]
        }
      ],
      "source": [
        "df[\"Academic Pressure\"].fillna(0, inplace=True)\n",
        "df[\"Academic Pressure\"] = df[\"Academic Pressure\"].astype(int)"
      ]
    },
    {
      "cell_type": "code",
      "execution_count": 26,
      "metadata": {
        "colab": {
          "base_uri": "https://localhost:8080/"
        },
        "id": "gw8ilgaK8HIq",
        "outputId": "5a171854-33d8-4d76-a459-c361bb8f117f"
      },
      "outputs": [
        {
          "name": "stderr",
          "output_type": "stream",
          "text": [
            "/var/folders/q3/bl9sh3nd1997t0vby3jw4xl80000gn/T/ipykernel_7540/2216649700.py:1: FutureWarning: A value is trying to be set on a copy of a DataFrame or Series through chained assignment using an inplace method.\n",
            "The behavior will change in pandas 3.0. This inplace method will never work because the intermediate object on which we are setting values always behaves as a copy.\n",
            "\n",
            "For example, when doing 'df[col].method(value, inplace=True)', try using 'df.method({col: value}, inplace=True)' or df[col] = df[col].method(value) instead, to perform the operation inplace on the original object.\n",
            "\n",
            "\n",
            "  df[\"Work Pressure\"].fillna(0, inplace=True)\n"
          ]
        }
      ],
      "source": [
        "df[\"Work Pressure\"].fillna(0, inplace=True)\n",
        "df[\"Work Pressure\"] = df[\"Work Pressure\"].astype(int)"
      ]
    },
    {
      "cell_type": "code",
      "execution_count": 27,
      "metadata": {
        "colab": {
          "base_uri": "https://localhost:8080/",
          "height": 304
        },
        "id": "McTJ1rgw8O4P",
        "outputId": "dcd1c244-d2e1-4f34-b058-5de385c70391"
      },
      "outputs": [
        {
          "data": {
            "text/plain": [
              "Pressure\n",
              "3    29353\n",
              "5    28727\n",
              "2    28548\n",
              "4    27667\n",
              "1    26362\n",
              "0       21\n",
              "Name: count, dtype: int64"
            ]
          },
          "execution_count": 27,
          "metadata": {},
          "output_type": "execute_result"
        }
      ],
      "source": [
        "df[\"Pressure\"] = df[\"Academic Pressure\"] + df[\"Work Pressure\"]\n",
        "df[\"Pressure\"].value_counts()"
      ]
    },
    {
      "cell_type": "code",
      "execution_count": 28,
      "metadata": {
        "colab": {
          "base_uri": "https://localhost:8080/"
        },
        "id": "yhBcZibu-Vym",
        "outputId": "3f36af66-527a-4a1e-b4d7-8a74e2fac112"
      },
      "outputs": [
        {
          "name": "stderr",
          "output_type": "stream",
          "text": [
            "/var/folders/q3/bl9sh3nd1997t0vby3jw4xl80000gn/T/ipykernel_7540/3356946874.py:1: FutureWarning: A value is trying to be set on a copy of a DataFrame or Series through chained assignment using an inplace method.\n",
            "The behavior will change in pandas 3.0. This inplace method will never work because the intermediate object on which we are setting values always behaves as a copy.\n",
            "\n",
            "For example, when doing 'df[col].method(value, inplace=True)', try using 'df.method({col: value}, inplace=True)' or df[col] = df[col].method(value) instead, to perform the operation inplace on the original object.\n",
            "\n",
            "\n",
            "  df[\"CGPA\"].fillna(0, inplace=True)\n"
          ]
        }
      ],
      "source": [
        "df[\"CGPA\"].fillna(0, inplace=True)"
      ]
    },
    {
      "cell_type": "code",
      "execution_count": 29,
      "metadata": {
        "id": "Nx1YMwfzOAGL"
      },
      "outputs": [],
      "source": [
        "map = {\n",
        "   \"Male\" : 1,\n",
        "   \"Female\" : 0\n",
        "}\n",
        "\n",
        "df[\"Gender\"] = df[\"Gender\"].map(map)"
      ]
    },
    {
      "cell_type": "code",
      "execution_count": 30,
      "metadata": {
        "colab": {
          "base_uri": "https://localhost:8080/",
          "height": 241
        },
        "id": "coXJy8qVNDU8",
        "outputId": "cbb6d02a-6743-4bdf-c879-0ec13f4671bc"
      },
      "outputs": [
        {
          "data": {
            "text/plain": [
              "0    0\n",
              "1    1\n",
              "2    1\n",
              "3    1\n",
              "4    0\n",
              "Name: Gender, dtype: int64"
            ]
          },
          "execution_count": 30,
          "metadata": {},
          "output_type": "execute_result"
        }
      ],
      "source": [
        "df[\"Gender\"].head()"
      ]
    },
    {
      "cell_type": "code",
      "execution_count": 31,
      "metadata": {
        "colab": {
          "base_uri": "https://localhost:8080/"
        },
        "id": "DyW4uIJFQMi6",
        "outputId": "7cc8a7aa-a5c1-4d25-8659-d36e75bf072e"
      },
      "outputs": [
        {
          "data": {
            "text/plain": [
              "array(['Chef', 'Teacher', nan, 'Business Analyst', 'Finanancial Analyst',\n",
              "       'Chemist', 'Electrician', 'Software Engineer', 'Data Scientist',\n",
              "       'Plumber', 'Marketing Manager', 'Accountant', 'Entrepreneur',\n",
              "       'HR Manager', 'UX/UI Designer', 'Content Writer',\n",
              "       'Educational Consultant', 'Civil Engineer', 'Manager',\n",
              "       'Pharmacist', 'Financial Analyst', 'Architect',\n",
              "       'Mechanical Engineer', 'Customer Support', 'Consultant', 'Judge',\n",
              "       'Researcher', 'Pilot', 'Graphic Designer', 'Travel Consultant',\n",
              "       'Digital Marketer', 'Lawyer', 'Research Analyst',\n",
              "       'Sales Executive', 'Doctor', 'Unemployed', 'Investment Banker',\n",
              "       'Family Consultant', 'B.Com', 'BE', 'Student', 'Yogesh', 'Dev',\n",
              "       'MBA', 'LLM', 'BCA', 'Academic', 'Profession', 'FamilyVirar',\n",
              "       'City Manager', 'BBA', 'Medical Doctor', 'Working Professional',\n",
              "       'MBBS', 'Patna', 'Unveil', 'B.Ed', 'Nagpur', 'Moderate', 'M.Ed',\n",
              "       'Analyst', 'Pranav', 'Visakhapatnam', 'PhD', 'Yuvraj'],\n",
              "      dtype=object)"
            ]
          },
          "execution_count": 31,
          "metadata": {},
          "output_type": "execute_result"
        }
      ],
      "source": [
        "df[\"Profession\"].unique()"
      ]
    },
    {
      "cell_type": "code",
      "execution_count": 32,
      "metadata": {
        "colab": {
          "base_uri": "https://localhost:8080/"
        },
        "id": "XKmg5tH-tiBy",
        "outputId": "cd5a059f-6387-4920-a330-531b40f94b32"
      },
      "outputs": [
        {
          "name": "stdout",
          "output_type": "stream",
          "text": [
            "<class 'pandas.core.frame.DataFrame'>\n",
            "Index: 140678 entries, 0 to 140699\n",
            "Data columns (total 24 columns):\n",
            " #   Column                                 Non-Null Count   Dtype  \n",
            "---  ------                                 --------------   -----  \n",
            " 0   id                                     140678 non-null  int64  \n",
            " 1   Name                                   140678 non-null  object \n",
            " 2   Gender                                 140678 non-null  int64  \n",
            " 3   Age                                    140678 non-null  int64  \n",
            " 4   City                                   140678 non-null  object \n",
            " 5   Working Professional or Student        140678 non-null  object \n",
            " 6   Profession                             104057 non-null  object \n",
            " 7   Academic Pressure                      140678 non-null  int64  \n",
            " 8   Work Pressure                          140678 non-null  int64  \n",
            " 9   CGPA                                   140678 non-null  float64\n",
            " 10  Study Satisfaction                     140678 non-null  int64  \n",
            " 11  Job Satisfaction                       140678 non-null  int64  \n",
            " 12  Sleep Duration                         140678 non-null  object \n",
            " 13  Dietary Habits                         140678 non-null  object \n",
            " 14  Degree                                 140676 non-null  object \n",
            " 15  Have you ever had suicidal thoughts ?  140678 non-null  int64  \n",
            " 16  Work/Study Hours                       140678 non-null  int64  \n",
            " 17  Financial Stress                       140678 non-null  int64  \n",
            " 18  Family History of Mental Illness       140678 non-null  int64  \n",
            " 19  Depression                             140678 non-null  int64  \n",
            " 20  Sleep Duration clean                   140670 non-null  object \n",
            " 21  sleep                                  140670 non-null  float64\n",
            " 22  Satisfaction                           140678 non-null  int64  \n",
            " 23  Pressure                               140678 non-null  int64  \n",
            "dtypes: float64(2), int64(14), object(8)\n",
            "memory usage: 26.8+ MB\n"
          ]
        }
      ],
      "source": [
        "df.info()"
      ]
    },
    {
      "cell_type": "markdown",
      "metadata": {
        "id": "oW-sMuRdtVIA"
      },
      "source": [
        "**Creat sepaerate dataset for working and students**"
      ]
    },
    {
      "cell_type": "code",
      "execution_count": 33,
      "metadata": {
        "id": "tvnpPGz-V6th"
      },
      "outputs": [],
      "source": [
        "X = df[['Gender', 'Age', 'sleep', 'Work/Study Hours', 'Pressure', 'Financial Stress', 'Satisfaction', 'Family History of Mental Illness', 'Have you ever had suicidal thoughts ?']].fillna(0)\n",
        "y = df['Depression'].astype(int)"
      ]
    },
    {
      "cell_type": "code",
      "execution_count": 34,
      "metadata": {
        "colab": {
          "base_uri": "https://localhost:8080/",
          "height": 276
        },
        "id": "Erg_MV-SX5vC",
        "outputId": "f2d0ad5e-bc97-455f-e762-43724e9fe79c"
      },
      "outputs": [
        {
          "data": {
            "text/html": [
              "<div>\n",
              "<style scoped>\n",
              "    .dataframe tbody tr th:only-of-type {\n",
              "        vertical-align: middle;\n",
              "    }\n",
              "\n",
              "    .dataframe tbody tr th {\n",
              "        vertical-align: top;\n",
              "    }\n",
              "\n",
              "    .dataframe thead th {\n",
              "        text-align: right;\n",
              "    }\n",
              "</style>\n",
              "<table border=\"1\" class=\"dataframe\">\n",
              "  <thead>\n",
              "    <tr style=\"text-align: right;\">\n",
              "      <th></th>\n",
              "      <th>Gender</th>\n",
              "      <th>Age</th>\n",
              "      <th>sleep</th>\n",
              "      <th>Work/Study Hours</th>\n",
              "      <th>Pressure</th>\n",
              "      <th>Financial Stress</th>\n",
              "      <th>Satisfaction</th>\n",
              "      <th>Family History of Mental Illness</th>\n",
              "      <th>Have you ever had suicidal thoughts ?</th>\n",
              "    </tr>\n",
              "  </thead>\n",
              "  <tbody>\n",
              "    <tr>\n",
              "      <th>0</th>\n",
              "      <td>0</td>\n",
              "      <td>49</td>\n",
              "      <td>9.0</td>\n",
              "      <td>1</td>\n",
              "      <td>5</td>\n",
              "      <td>2</td>\n",
              "      <td>2</td>\n",
              "      <td>0</td>\n",
              "      <td>0</td>\n",
              "    </tr>\n",
              "    <tr>\n",
              "      <th>1</th>\n",
              "      <td>1</td>\n",
              "      <td>26</td>\n",
              "      <td>4.0</td>\n",
              "      <td>7</td>\n",
              "      <td>4</td>\n",
              "      <td>3</td>\n",
              "      <td>3</td>\n",
              "      <td>0</td>\n",
              "      <td>1</td>\n",
              "    </tr>\n",
              "    <tr>\n",
              "      <th>2</th>\n",
              "      <td>1</td>\n",
              "      <td>33</td>\n",
              "      <td>5.5</td>\n",
              "      <td>3</td>\n",
              "      <td>5</td>\n",
              "      <td>1</td>\n",
              "      <td>2</td>\n",
              "      <td>0</td>\n",
              "      <td>1</td>\n",
              "    </tr>\n",
              "    <tr>\n",
              "      <th>3</th>\n",
              "      <td>1</td>\n",
              "      <td>22</td>\n",
              "      <td>4.0</td>\n",
              "      <td>10</td>\n",
              "      <td>5</td>\n",
              "      <td>1</td>\n",
              "      <td>1</td>\n",
              "      <td>1</td>\n",
              "      <td>1</td>\n",
              "    </tr>\n",
              "    <tr>\n",
              "      <th>4</th>\n",
              "      <td>0</td>\n",
              "      <td>30</td>\n",
              "      <td>5.5</td>\n",
              "      <td>9</td>\n",
              "      <td>1</td>\n",
              "      <td>4</td>\n",
              "      <td>1</td>\n",
              "      <td>1</td>\n",
              "      <td>1</td>\n",
              "    </tr>\n",
              "  </tbody>\n",
              "</table>\n",
              "</div>"
            ],
            "text/plain": [
              "   Gender  Age  sleep  Work/Study Hours  Pressure  Financial Stress  \\\n",
              "0       0   49    9.0                 1         5                 2   \n",
              "1       1   26    4.0                 7         4                 3   \n",
              "2       1   33    5.5                 3         5                 1   \n",
              "3       1   22    4.0                10         5                 1   \n",
              "4       0   30    5.5                 9         1                 4   \n",
              "\n",
              "   Satisfaction  Family History of Mental Illness  \\\n",
              "0             2                                 0   \n",
              "1             3                                 0   \n",
              "2             2                                 0   \n",
              "3             1                                 1   \n",
              "4             1                                 1   \n",
              "\n",
              "   Have you ever had suicidal thoughts ?  \n",
              "0                                      0  \n",
              "1                                      1  \n",
              "2                                      1  \n",
              "3                                      1  \n",
              "4                                      1  "
            ]
          },
          "execution_count": 34,
          "metadata": {},
          "output_type": "execute_result"
        }
      ],
      "source": [
        "X.head()"
      ]
    },
    {
      "cell_type": "code",
      "execution_count": 35,
      "metadata": {
        "id": "2pHyQdLxskyv"
      },
      "outputs": [],
      "source": [
        "# Create a DataFrame for rows containing \"working profession\"\n",
        "work = df[df[\"Working Professional or Student\"].str.contains(\"Working Professional\", case=False)].reset_index(drop=True)\n",
        "\n",
        "# Create a DataFrame for rows containing \"student\"\n",
        "stud = df[df[\"Working Professional or Student\"].str.contains(\"Student\", case=False)].reset_index(drop=True)"
      ]
    },
    {
      "cell_type": "code",
      "execution_count": 36,
      "metadata": {
        "id": "ux64jw0breqb"
      },
      "outputs": [],
      "source": [
        "# prompt: download newely created work , stud as csv\n",
        "\n",
        "work.to_csv('work.csv', index=False)\n",
        "stud.to_csv('stud.csv', index=False)"
      ]
    },
    {
      "cell_type": "code",
      "execution_count": 37,
      "metadata": {
        "id": "rqnmi5KGIzGt"
      },
      "outputs": [],
      "source": [
        "import pandas as pd\n",
        "from sklearn.model_selection import train_test_split\n",
        "from sklearn.svm import SVC\n",
        "from sklearn.ensemble import RandomForestClassifier\n",
        "from sklearn.neural_network import MLPClassifier\n",
        "from sklearn.ensemble import VotingClassifier\n",
        "from sklearn.preprocessing import StandardScaler\n",
        "\n",
        "\n",
        "# Split data into training and testing sets\n",
        "X_train, X_test, y_train, y_test = train_test_split(X, y, test_size=0.2, random_state=42)\n",
        "\n",
        "# Scale numerical features\n",
        "scaler = StandardScaler()\n",
        "X_train = scaler.fit_transform(X_train)\n",
        "X_test = scaler.transform(X_test)"
      ]
    },
    {
      "cell_type": "code",
      "execution_count": 38,
      "metadata": {
        "colab": {
          "base_uri": "https://localhost:8080/"
        },
        "id": "XodyZH6iZONc",
        "outputId": "1d5ad9ff-1e43-4a80-e10a-9fa765337142"
      },
      "outputs": [
        {
          "name": "stdout",
          "output_type": "stream",
          "text": [
            "Accuracy for SVC(C=1, kernel='linear'): 0.9302672732442423\n",
            "Accuracy for SVC(C=10, gamma=0.1): 0.9319732726755757\n",
            "Accuracy for SVC(C=1, kernel='poly'): 0.9283835655388115\n",
            "All accuracies: [0.9302672732442423, 0.9319732726755757, 0.9283835655388115]\n"
          ]
        }
      ],
      "source": [
        "from sklearn.metrics import accuracy_score\n",
        "\n",
        "# Initialize SVM models with different hyperparameters\n",
        "svm_models = [\n",
        "    SVC(kernel='linear', C=1),\n",
        "    SVC(kernel='rbf', C=10, gamma=0.1),\n",
        "    SVC(kernel='poly', degree=3, C=1)\n",
        "]\n",
        "\n",
        "# Train and evaluate each model\n",
        "accuracies = []\n",
        "for model in svm_models:\n",
        "    model.fit(X_train, y_train)\n",
        "    y_pred = model.predict(X_test)\n",
        "    accuracy = accuracy_score(y_test, y_pred)\n",
        "    accuracies.append(accuracy)\n",
        "    print(f\"Accuracy for {model}: {accuracy}\")\n",
        "\n",
        "print(f\"All accuracies: {accuracies}\")"
      ]
    },
    {
      "cell_type": "code",
      "execution_count": 39,
      "metadata": {
        "colab": {
          "base_uri": "https://localhost:8080/"
        },
        "id": "jQCET8-MagIK",
        "outputId": "5c082ab9-b952-44da-ef8e-62944488c893"
      },
      "outputs": [
        {
          "name": "stdout",
          "output_type": "stream",
          "text": [
            "Random Forest Accuracy: 0.9255757748080751\n",
            "MLP Accuracy: 0.929449815183395\n"
          ]
        }
      ],
      "source": [
        "# Initialize and train a RandomForestClassifier\n",
        "rf_model = RandomForestClassifier(random_state=42)\n",
        "rf_model.fit(X_train, y_train)\n",
        "\n",
        "# Make predictions using the RandomForestClassifier\n",
        "rf_predictions = rf_model.predict(X_test)\n",
        "rf_accuracy = accuracy_score(y_test, rf_predictions)\n",
        "print(f\"Random Forest Accuracy: {rf_accuracy}\")\n",
        "\n",
        "\n",
        "# Initialize and train an MLPClassifier\n",
        "mlp_model = MLPClassifier(hidden_layer_sizes=(100, 50), max_iter=500, random_state=42)\n",
        "mlp_model.fit(X_train, y_train)\n",
        "\n",
        "# Make predictions using the MLPClassifier\n",
        "mlp_predictions = mlp_model.predict(X_test)\n",
        "mlp_accuracy = accuracy_score(y_test, mlp_predictions)\n",
        "print(f\"MLP Accuracy: {mlp_accuracy}\")"
      ]
    },
    {
      "cell_type": "code",
      "execution_count": 40,
      "metadata": {
        "colab": {
          "base_uri": "https://localhost:8080/"
        },
        "id": "IvcE3UQNd3cC",
        "outputId": "c32b7898-6e84-4b3f-dc83-79c6a871f2a7"
      },
      "outputs": [
        {
          "name": "stdout",
          "output_type": "stream",
          "text": [
            "Ensemble Accuracy: 0.9322220642593119\n"
          ]
        }
      ],
      "source": [
        "# Create a voting classifier\n",
        "estimators = [\n",
        "    ('svm_linear', svm_models[0]),\n",
        "    ('svm_rbf', svm_models[1]),\n",
        "    ('svm_poly', svm_models[2]),\n",
        "    ('random_forest', rf_model),\n",
        "    ('mlp', mlp_model)\n",
        "]\n",
        "\n",
        "ensemble_model = VotingClassifier(estimators=estimators, voting='hard')\n",
        "\n",
        "# Train the ensemble model\n",
        "ensemble_model.fit(X_train, y_train)\n",
        "\n",
        "# Make predictions using the ensemble model\n",
        "ensemble_predictions = ensemble_model.predict(X_test)\n",
        "ensemble_accuracy = accuracy_score(y_test, ensemble_predictions)\n",
        "print(f\"Ensemble Accuracy: {ensemble_accuracy}\")"
      ]
    },
    {
      "cell_type": "code",
      "execution_count": 41,
      "metadata": {
        "colab": {
          "base_uri": "https://localhost:8080/",
          "height": 912
        },
        "id": "OsWzX_t0hPDh",
        "outputId": "5b3bc160-2595-42c4-c9b5-5f1543668740"
      },
      "outputs": [
        {
          "data": {
            "text/html": [
              "<div>\n",
              "<style scoped>\n",
              "    .dataframe tbody tr th:only-of-type {\n",
              "        vertical-align: middle;\n",
              "    }\n",
              "\n",
              "    .dataframe tbody tr th {\n",
              "        vertical-align: top;\n",
              "    }\n",
              "\n",
              "    .dataframe thead th {\n",
              "        text-align: right;\n",
              "    }\n",
              "</style>\n",
              "<table border=\"1\" class=\"dataframe\">\n",
              "  <thead>\n",
              "    <tr style=\"text-align: right;\">\n",
              "      <th></th>\n",
              "      <th>Model</th>\n",
              "      <th>Accuracy</th>\n",
              "    </tr>\n",
              "  </thead>\n",
              "  <tbody>\n",
              "    <tr>\n",
              "      <th>0</th>\n",
              "      <td>SVM (linear)</td>\n",
              "      <td>0.930267</td>\n",
              "    </tr>\n",
              "    <tr>\n",
              "      <th>1</th>\n",
              "      <td>SVM (rbf)</td>\n",
              "      <td>0.931973</td>\n",
              "    </tr>\n",
              "    <tr>\n",
              "      <th>2</th>\n",
              "      <td>SVM (poly)</td>\n",
              "      <td>0.928384</td>\n",
              "    </tr>\n",
              "    <tr>\n",
              "      <th>3</th>\n",
              "      <td>Random Forest</td>\n",
              "      <td>0.925576</td>\n",
              "    </tr>\n",
              "    <tr>\n",
              "      <th>4</th>\n",
              "      <td>MLP</td>\n",
              "      <td>0.929450</td>\n",
              "    </tr>\n",
              "    <tr>\n",
              "      <th>5</th>\n",
              "      <td>Ensemble</td>\n",
              "      <td>0.932222</td>\n",
              "    </tr>\n",
              "  </tbody>\n",
              "</table>\n",
              "</div>"
            ],
            "text/plain": [
              "           Model  Accuracy\n",
              "0   SVM (linear)  0.930267\n",
              "1      SVM (rbf)  0.931973\n",
              "2     SVM (poly)  0.928384\n",
              "3  Random Forest  0.925576\n",
              "4            MLP  0.929450\n",
              "5       Ensemble  0.932222"
            ]
          },
          "execution_count": 41,
          "metadata": {},
          "output_type": "execute_result"
        }
      ],
      "source": [
        "#table the accuricies\n",
        "data_acc = {\n",
        "    'Model': ['SVM (linear)', 'SVM (rbf)', 'SVM (poly)', 'Random Forest', 'MLP', 'Ensemble'],\n",
        "    'Accuracy': accuracies + [rf_accuracy, mlp_accuracy, ensemble_accuracy]\n",
        "}\n",
        "\n",
        "accuracy_df = pd.DataFrame(data_acc)\n",
        "accuracy_df"
      ]
    },
    {
      "cell_type": "code",
      "execution_count": 42,
      "metadata": {
        "colab": {
          "base_uri": "https://localhost:8080/"
        },
        "id": "kIOvN8lRpXEI",
        "outputId": "aa284f6d-36c5-45db-f78e-989c6c27b408"
      },
      "outputs": [
        {
          "data": {
            "text/plain": [
              "['scaler.pkl']"
            ]
          },
          "execution_count": 42,
          "metadata": {},
          "output_type": "execute_result"
        }
      ],
      "source": [
        "import joblib\n",
        "\n",
        "# Assuming 'ensemble_model' is your trained ensemble model\n",
        "# Save the trained model to a file\n",
        "joblib.dump(ensemble_model, 'ensemble_model.pkl')\n",
        "\n",
        "# Save the scaler to a file\n",
        "joblib.dump(scaler, 'scaler.pkl')"
      ]
    },
    {
      "cell_type": "code",
      "execution_count": 43,
      "metadata": {
        "colab": {
          "base_uri": "https://localhost:8080/"
        },
        "id": "tocK-jSgf5Dz",
        "outputId": "ef31ecf4-5e6c-4783-9d48-5e52f11f7624"
      },
      "outputs": [
        {
          "name": "stderr",
          "output_type": "stream",
          "text": [
            "/var/folders/q3/bl9sh3nd1997t0vby3jw4xl80000gn/T/ipykernel_7540/3952587507.py:72: FutureWarning: A value is trying to be set on a copy of a DataFrame or Series through chained assignment using an inplace method.\n",
            "The behavior will change in pandas 3.0. This inplace method will never work because the intermediate object on which we are setting values always behaves as a copy.\n",
            "\n",
            "For example, when doing 'df[col].method(value, inplace=True)', try using 'df.method({col: value}, inplace=True)' or df[col] = df[col].method(value) instead, to perform the operation inplace on the original object.\n",
            "\n",
            "\n",
            "  df_test[\"Study Satisfaction\"].fillna(0, inplace=True)\n",
            "/var/folders/q3/bl9sh3nd1997t0vby3jw4xl80000gn/T/ipykernel_7540/3952587507.py:74: FutureWarning: A value is trying to be set on a copy of a DataFrame or Series through chained assignment using an inplace method.\n",
            "The behavior will change in pandas 3.0. This inplace method will never work because the intermediate object on which we are setting values always behaves as a copy.\n",
            "\n",
            "For example, when doing 'df[col].method(value, inplace=True)', try using 'df.method({col: value}, inplace=True)' or df[col] = df[col].method(value) instead, to perform the operation inplace on the original object.\n",
            "\n",
            "\n",
            "  df_test[\"Job Satisfaction\"].fillna(0, inplace=True)\n",
            "/var/folders/q3/bl9sh3nd1997t0vby3jw4xl80000gn/T/ipykernel_7540/3952587507.py:77: FutureWarning: A value is trying to be set on a copy of a DataFrame or Series through chained assignment using an inplace method.\n",
            "The behavior will change in pandas 3.0. This inplace method will never work because the intermediate object on which we are setting values always behaves as a copy.\n",
            "\n",
            "For example, when doing 'df[col].method(value, inplace=True)', try using 'df.method({col: value}, inplace=True)' or df[col] = df[col].method(value) instead, to perform the operation inplace on the original object.\n",
            "\n",
            "\n",
            "  df_test[\"Academic Pressure\"].fillna(0, inplace=True)\n",
            "/var/folders/q3/bl9sh3nd1997t0vby3jw4xl80000gn/T/ipykernel_7540/3952587507.py:79: FutureWarning: A value is trying to be set on a copy of a DataFrame or Series through chained assignment using an inplace method.\n",
            "The behavior will change in pandas 3.0. This inplace method will never work because the intermediate object on which we are setting values always behaves as a copy.\n",
            "\n",
            "For example, when doing 'df[col].method(value, inplace=True)', try using 'df.method({col: value}, inplace=True)' or df[col] = df[col].method(value) instead, to perform the operation inplace on the original object.\n",
            "\n",
            "\n",
            "  df_test[\"Work Pressure\"].fillna(0, inplace=True)\n",
            "/var/folders/q3/bl9sh3nd1997t0vby3jw4xl80000gn/T/ipykernel_7540/3952587507.py:82: FutureWarning: A value is trying to be set on a copy of a DataFrame or Series through chained assignment using an inplace method.\n",
            "The behavior will change in pandas 3.0. This inplace method will never work because the intermediate object on which we are setting values always behaves as a copy.\n",
            "\n",
            "For example, when doing 'df[col].method(value, inplace=True)', try using 'df.method({col: value}, inplace=True)' or df[col] = df[col].method(value) instead, to perform the operation inplace on the original object.\n",
            "\n",
            "\n",
            "  df_test[\"CGPA\"].fillna(0, inplace=True)\n"
          ]
        }
      ],
      "source": [
        "# Load the test dataset\n",
        "df_test = pd.read_csv('test.csv')\n",
        "\n",
        "# Preprocessing steps (mirroring the training data preprocessing)\n",
        "mapping = {'Yes': 1, 'No': 0}\n",
        "for col in ['Family History of Mental Illness', 'Have you ever had suicidal thoughts ?']:\n",
        "    df_test[col] = df_test[col].map(mapping)\n",
        "\n",
        "duration_mapping = {\n",
        "    \"Less than 5 hours\": \"Less than 5 hours\",\n",
        "    \"5-6 hours\": \"5-6 hours\",\n",
        "    \"6-7 hours\": \"6-7 hours\",\n",
        "    \"7-8 hours\": \"7-8 hours\",\n",
        "    \"8-9 hours\": \"8-9 hours\",\n",
        "    \"9-11 hours\": \"9-11 hours\",\n",
        "    \"More than 8 hours\": \"More than 8 hours\",\n",
        "    # Group other ranges into approximate categories\n",
        "    \"4-5 hours\": \"4-6 hours\",\n",
        "    \"4-6 hours\": \"4-6 hours\",\n",
        "    \"6-8 hours\": \"6-8 hours\",\n",
        "    \"3-4 hours\": \"Less than 5 hours\",\n",
        "    \"3-6 hours\": \"4-6 hours\",\n",
        "    \"1-6 hours\": \"Less than 5 hours\",\n",
        "    \"2-3 hours\": \"Less than 5 hours\",\n",
        "    # Handle invalid data\n",
        "    \"No\": \"Invalid\",\n",
        "    \"Sleep_Duration\": \"Invalid\",\n",
        "    \"Unhealthy\": \"Invalid\",\n",
        "    \"Moderate\": \"Invalid\",\n",
        "    \"Pune\": \"Invalid\",\n",
        "    \"Indore\": \"Invalid\",\n",
        "    \"Work_Study_Hours\": \"Invalid\",\n",
        "    \"9-5\": \"Invalid\",\n",
        "    \"10-6 hours\": \"Invalid\",\n",
        "    \"than 5 hours\": \"Invalid\",\n",
        "    \"49 hours\": \"Invalid\",\n",
        "    \"45\": \"Invalid\",\n",
        "    \"45-48 hours\": \"Invalid\",\n",
        "    \"35-36 hours\": \"Invalid\",\n",
        "    \"55-66 hours\": \"Invalid\",\n",
        "}\n",
        "df_test['Sleep Duration clean'] = df_test['Sleep Duration'].map(duration_mapping)\n",
        "\n",
        "map_sleep = {\n",
        "    'More than 8 hours' : 9.0,\n",
        "     'Less than 5 hours' : 4.0,\n",
        "     '5-6 hours' : 5.5,\n",
        "     '7-8 hours' : 7.5,\n",
        "     'Invalid' : 0 ,\n",
        "     '6-8 hours' : 7,\n",
        "     '4-6 hours' : 5,\n",
        "     '6-7 hours' : 6.5,\n",
        "     '8-9 hours' : 8.5,\n",
        "     '9-11 hours' : 10.0\n",
        "}\n",
        "df_test[\"sleep\"] = df_test[\"Sleep Duration clean\"].map(map_sleep)\n",
        "\n",
        "\n",
        "valid_categories = [\"Moderate\", \"Unhealthy\", \"Healthy\"]\n",
        "synonym_mapping = {\n",
        "    \"More Healthy\": \"Healthy\",\n",
        "    \"Less Healthy\": \"Unhealthy\",\n",
        "    \"Less than Healthy\": \"Unhealthy\",\n",
        "    \"No Healthy\": \"Unhealthy\"\n",
        "}\n",
        "df_test[\"Dietary Habits\"] = df_test[\"Dietary Habits\"].replace(synonym_mapping)\n",
        "df_test = df_test[df_test[\"Dietary Habits\"].isin(valid_categories)]\n",
        "\n",
        "\n",
        "df_test[\"Work/Study Hours\"] = df_test[\"Work/Study Hours\"].astype(int)\n",
        "df_test[\"Financial Stress\"] = df_test[\"Financial Stress\"].fillna(0).astype(int)\n",
        "df_test[\"Study Satisfaction\"].fillna(0, inplace=True)\n",
        "df_test[\"Study Satisfaction\"] = df_test[\"Study Satisfaction\"].astype(int)\n",
        "df_test[\"Job Satisfaction\"].fillna(0, inplace=True)\n",
        "df_test[\"Job Satisfaction\"] = df_test[\"Job Satisfaction\"].astype(int)\n",
        "df_test[\"Satisfaction\"] = df_test[\"Job Satisfaction\"] + df_test[\"Study Satisfaction\"]\n",
        "df_test[\"Academic Pressure\"].fillna(0, inplace=True)\n",
        "df_test[\"Academic Pressure\"] = df_test[\"Academic Pressure\"].astype(int)\n",
        "df_test[\"Work Pressure\"].fillna(0, inplace=True)\n",
        "df_test[\"Work Pressure\"] = df_test[\"Work Pressure\"].astype(int)\n",
        "df_test[\"Pressure\"] = df_test[\"Academic Pressure\"] + df_test[\"Work Pressure\"]\n",
        "df_test[\"CGPA\"].fillna(0, inplace=True)\n",
        "\n",
        "map_gender = {\n",
        "   \"Male\" : 1,\n",
        "   \"Female\" : 0\n",
        "}\n",
        "df_test[\"Gender\"] = df_test[\"Gender\"].map(map_gender)"
      ]
    },
    {
      "cell_type": "code",
      "execution_count": 44,
      "metadata": {
        "id": "_BAzuu2Cpv8I"
      },
      "outputs": [],
      "source": [
        " #Feature selection (same as training data)\n",
        "X_test_final = df_test[['Gender','Age','sleep','Work/Study Hours','Pressure','Financial Stress','Satisfaction','Family History of Mental Illness','Have you ever had suicidal thoughts ?']].fillna(0)\n",
        "\n",
        "# Scale the test data using the same scaler used for training\n",
        "\n",
        "X_test_final = scaler.fit_transform(X_test_final)\n",
        "\n",
        "# Make predictions on the test set\n",
        "y_pred = ensemble_model.predict(X_test_final)"
      ]
    },
    {
      "cell_type": "code",
      "execution_count": 45,
      "metadata": {
        "id": "GUz48k8MgqDg"
      },
      "outputs": [],
      "source": [
        "# Create a new DataFrame with 'id' and 'predicted' columns\n",
        "new_df = pd.DataFrame({'id': df_test['id'], 'predicted': y_pred})\n",
        "\n",
        "# Assuming 'new_df' is already defined as in the provided code.\n",
        "new_df.to_csv('submission.csv', index=False)"
      ]
    }
  ],
  "metadata": {
    "colab": {
      "provenance": []
    },
    "kernelspec": {
      "display_name": "ven",
      "language": "python",
      "name": "python3"
    },
    "language_info": {
      "codemirror_mode": {
        "name": "ipython",
        "version": 3
      },
      "file_extension": ".py",
      "mimetype": "text/x-python",
      "name": "python",
      "nbconvert_exporter": "python",
      "pygments_lexer": "ipython3",
      "version": "3.12.4"
    }
  },
  "nbformat": 4,
  "nbformat_minor": 0
}
